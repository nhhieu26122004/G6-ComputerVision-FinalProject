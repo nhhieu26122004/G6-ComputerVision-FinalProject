{
  "cells": [
    {
      "cell_type": "markdown",
      "metadata": {},
      "source": [
        "# 🗑️ Waste Classification using YOLOv8\n",
        "## TASK 2: Thiết lập môi trường và làm quen YOLOv8\n",
        "\n",
        "**Project:** Phân loại rác thải thông minh cho dây chuyền xử lý công nghiệp  \n",
        "**Classes:** Plastic, Metal, Paper, Glass  \n",
        "**Model:** YOLOv8n (nano)  \n",
        "**Environment:** Google Colab with GPU\n",
        "\n",
        "---\n"
      ]
    },
    {
      "cell_type": "markdown",
      "metadata": {},
      "source": [
        "## 📦 CELL 1: Install YOLOv8 và Check GPU\n",
        "\n",
        "**Mục đích:**\n",
        "- Cài đặt thư viện Ultralytics YOLOv8\n",
        "- Import các libraries cần thiết\n",
        "- Kiểm tra GPU có available không\n",
        "\n",
        "**⚠️ Lưu ý:** Đảm bảo đã enable GPU: `Runtime > Change runtime type > T4 GPU`\n"
      ]
    },
    {
      "cell_type": "code",
      "execution_count": null,
      "metadata": {},
      "outputs": [],
      "source": [
        "# Install Ultralytics YOLOv8\n",
        "print(\"📦 Installing YOLOv8...\")\n",
        "%pip install ultralytics -q\n",
        "\n",
        "# Import libraries\n",
        "from ultralytics import YOLO\n",
        "import torch\n",
        "from google.colab import drive\n",
        "from IPython.display import Image, display\n",
        "import os\n",
        "import glob\n",
        "import shutil\n",
        "\n",
        "print(\"\\n✅ Installation completed!\")\n",
        "\n",
        "# Check GPU (QUAN TRỌNG!)\n",
        "print(\"\\n🔍 GPU Information:\")\n",
        "print(f\"GPU Available: {torch.cuda.is_available()}\")\n",
        "if torch.cuda.is_available():\n",
        "    print(f\"GPU Name: {torch.cuda.get_device_name(0)}\")\n",
        "    print(f\"GPU Memory: {torch.cuda.get_device_properties(0).total_memory / 1e9:.2f} GB\")\n",
        "    print(f\"\\n🎉 GPU is ready for training!\")\n",
        "else:\n",
        "    print(\"\\n⚠️ WARNING: No GPU found!\")\n",
        "    print(\"Please enable GPU: Runtime > Change runtime type > T4 GPU\")\n",
        "    print(\"Then restart this cell.\")\n"
      ]
    },
    {
      "cell_type": "markdown",
      "metadata": {},
      "source": [
        "## 📂 CELL 2: Mount Google Drive\n",
        "\n",
        "**Mục đích:**\n",
        "- Kết nối Google Drive để access dataset\n",
        "- Verify folder structure\n",
        "\n",
        "**⚠️ Lưu ý:** Khi chạy cell này, sẽ có popup yêu cầu authorization\n"
      ]
    },
    {
      "cell_type": "code",
      "execution_count": null,
      "metadata": {},
      "outputs": [],
      "source": [
        "# Mount Google Drive\n",
        "print(\"📂 Mounting Google Drive...\")\n",
        "drive.mount('/content/drive')\n",
        "\n",
        "# Verify mount\n",
        "if os.path.exists('/content/drive/MyDrive'):\n",
        "    print(\"\\n✅ Google Drive mounted successfully!\")\n",
        "    \n",
        "    # List files in project folder\n",
        "    project_folder = '/content/drive/MyDrive/Waste_Detection_Project'\n",
        "    if os.path.exists(project_folder):\n",
        "        print(f\"\\n📁 Files in project folder:\")\n",
        "        !ls -lh /content/drive/MyDrive/Waste_Detection_Project/\n",
        "    else:\n",
        "        print(f\"\\n⚠️ Folder not found: {project_folder}\")\n",
        "        print(\"Please check the folder name!\")\n",
        "else:\n",
        "    print(\"\\n❌ Failed to mount Google Drive!\")\n"
      ]
    },
    {
      "cell_type": "markdown",
      "metadata": {},
      "source": [
        "## 📦 CELL 3: Unzip Dataset\n",
        "\n",
        "**Mục đích:**\n",
        "- Giải nén dataset từ Drive vào Colab\n",
        "- Verify cấu trúc dataset\n",
        "- Đếm số lượng images/labels\n",
        "\n",
        "**⚠️ Lưu ý:** Sửa tên file zip nếu bạn đặt tên khác\n"
      ]
    },
    {
      "cell_type": "code",
      "execution_count": null,
      "metadata": {},
      "outputs": [],
      "source": [
        "# Unzip dataset\n",
        "print(\"📦 Extracting dataset...\")\n",
        "\n",
        "# Path to zip file (SỬA TÊN NẾU CẦN!)\n",
        "zip_path = '/content/drive/MyDrive/Waste_Detection_Project/waste_dataset.zip'\n",
        "\n",
        "if not os.path.exists(zip_path):\n",
        "    print(f\"❌ File not found: {zip_path}\")\n",
        "    print(\"\\nAvailable files:\")\n",
        "    !ls -la /content/drive/MyDrive/Waste_Detection_Project/\n",
        "else:\n",
        "    !unzip -q {zip_path} -d /content/\n",
        "    print(\"✅ Dataset extracted!\")\n",
        "    \n",
        "    print(\"\\n📊 Dataset structure:\")\n",
        "    !ls -la /content/dataset/\n",
        "    \n",
        "    # Count files\n",
        "    train_imgs = len(glob.glob('/content/dataset/train/images/*'))\n",
        "    train_labels = len(glob.glob('/content/dataset/train/labels/*'))\n",
        "    valid_imgs = len(glob.glob('/content/dataset/valid/images/*'))\n",
        "    valid_labels = len(glob.glob('/content/dataset/valid/labels/*'))\n",
        "    test_imgs = len(glob.glob('/content/dataset/test/images/*'))\n",
        "    test_labels = len(glob.glob('/content/dataset/test/labels/*'))\n",
        "    \n",
        "    print(f\"\\n📁 File counts:\")\n",
        "    print(f\"  Train: {train_imgs} images, {train_labels} labels\")\n",
        "    print(f\"  Valid: {valid_imgs} images, {valid_labels} labels\")\n",
        "    print(f\"  Test:  {test_imgs} images, {test_labels} labels\")\n",
        "    print(f\"  Total: {train_imgs + valid_imgs + test_imgs} images\")\n",
        "    \n",
        "    if train_imgs == train_labels and valid_imgs == valid_labels:\n",
        "        print(\"\\n✅ Images and labels match!\")\n"
      ]
    },
    {
      "cell_type": "markdown",
      "metadata": {},
      "source": [
        "## 🔧 CELL 4: Fix data.yaml Paths\n",
        "\n",
        "**Mục đích:**\n",
        "- Update paths trong data.yaml cho Colab\n",
        "- Chuyển từ relative paths sang absolute paths\n"
      ]
    },
    {
      "cell_type": "code",
      "execution_count": null,
      "metadata": {},
      "outputs": [],
      "source": [
        "# Fix data.yaml paths for Colab\n",
        "data_yaml_path = '/content/dataset/data.yaml'\n",
        "\n",
        "yaml_content = \"\"\"# Dataset configuration for YOLOv8\n",
        "train: /content/dataset/train/images\n",
        "val: /content/dataset/valid/images\n",
        "test: /content/dataset/test/images\n",
        "\n",
        "nc: 4\n",
        "names: ['Plastic', 'Metal', 'Paper', 'Glass']\n",
        "\"\"\"\n",
        "\n",
        "with open(data_yaml_path, 'w') as f:\n",
        "    f.write(yaml_content)\n",
        "\n",
        "print(\"✅ data.yaml updated for Colab!\")\n",
        "print(\"\\nContent:\")\n",
        "print(yaml_content)\n"
      ]
    },
    {
      "cell_type": "markdown",
      "metadata": {},
      "source": [
        "## 🧪 CELL 5: Test YOLOv8 Pretrained Model\n",
        "\n",
        "**Mục đích:**\n",
        "- Test YOLOv8 với pretrained model\n",
        "- Verify setup hoạt động OK\n",
        "\n",
        "**⚠️ Lưu ý:** Predictions sẽ SAI vì model chưa train cho waste!\n"
      ]
    },
    {
      "cell_type": "code",
      "execution_count": null,
      "metadata": {},
      "outputs": [],
      "source": [
        "# Test pretrained YOLOv8\n",
        "print(\"🤖 Loading pretrained YOLOv8n...\")\n",
        "model = YOLO('yolov8n.pt')\n",
        "\n",
        "print(\"✅ Model loaded!\\n\")\n",
        "\n",
        "# Test on sample images\n",
        "sample_images = sorted(glob.glob('/content/dataset/train/images/*'))[:3]\n",
        "\n",
        "print(f\"Testing on {len(sample_images)} images...\")\n",
        "\n",
        "results = model.predict(\n",
        "    source=sample_images,\n",
        "    imgsz=640,\n",
        "    conf=0.25,\n",
        "    save=True,\n",
        "    project='/content/test_inference',\n",
        "    name='pretrained_test',\n",
        "    exist_ok=True\n",
        ")\n",
        "\n",
        "print(\"\\n✅ Inference completed!\")\n",
        "print(\"⚠️ Classes will be WRONG (trained on COCO, not waste)\")\n",
        "\n",
        "# Display results\n",
        "pred_images = sorted(glob.glob('/content/test_inference/pretrained_test/*.jpg'))\n",
        "for i, img_path in enumerate(pred_images[:3], 1):\n",
        "    print(f\"\\n--- Image {i} ---\")\n",
        "    display(Image(img_path, width=600))\n"
      ]
    },
    {
      "cell_type": "markdown",
      "metadata": {},
      "source": [
        "---\n",
        "\n",
        "## ✅ TASK 2 COMPLETED!\n",
        "\n",
        "### Checklist:\n",
        "- ✅ YOLOv8 installed\n",
        "- ✅ GPU enabled and verified\n",
        "- ✅ Google Drive mounted\n",
        "- ✅ Dataset extracted (~1981 images)\n",
        "- ✅ data.yaml paths updated\n",
        "- ✅ Pretrained model tested\n",
        "\n",
        "### 🎯 Next: TASK 3 - TRAINING\n",
        "\n",
        "**Ready to start training!**\n",
        "\n",
        "Estimated time: 2-4 hours (100 epochs)\n",
        "\n",
        "---\n",
        "\n",
        "**📝 Notes:**\n",
        "- Backup weights to Drive during training\n",
        "- Monitor progress regularly  \n",
        "- Colab may disconnect after 12h\n",
        "\n",
        "**🚀 Good luck with training!**\n"
      ]
    }
  ],
  "metadata": {
    "language_info": {
      "name": "python"
    }
  },
  "nbformat": 4,
  "nbformat_minor": 2
}
